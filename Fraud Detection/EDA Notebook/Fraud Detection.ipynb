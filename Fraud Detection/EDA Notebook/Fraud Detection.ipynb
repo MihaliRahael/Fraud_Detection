{
 "cells": [
  {
   "cell_type": "markdown",
   "id": "9dc213de",
   "metadata": {},
   "source": [
    "# Credit Card Fraudulent Detection"
   ]
  },
  {
   "cell_type": "markdown",
   "id": "271adb85",
   "metadata": {},
   "source": [
    "## Scenario \n",
    "It is important that credit card companies are able to recognize fraudulent credit card transactions so that customers are not charged for items that they did not purchase.\n",
    "\n",
    "## Dataset\n",
    "The datasets contains transactions made by credit cards in September 2013 by european cardholders. This dataset presents transactions that occurred in two days, where we have 492 frauds out of 284,807 transactions. The dataset is highly unbalanced, the positive class (frauds) account for 0.172% of all transactions.\n",
    "\n",
    "It contains only numerical input variables which are the result of a PCA transformation. Features V1, V2, ... V28 are the principal components obtained with PCA, the only features which have not been transformed with PCA are 'Time' and 'Amount'. Feature 'Time' contains the seconds elapsed between each transaction and the first transaction in the dataset. The feature 'Amount' is the transaction Amount, this feature can be used for example-dependant cost-senstive learning. Feature 'Class' is the response variable and it takes value 1 in case of fraud and 0 otherwise.\n",
    "\n",
    "## Important : Performance metric\n",
    "- In case of fraud detection case studies, predicting a positive point as negative points will cost a lot more than predicting negative points as positive data points. \n",
    "- Since the dataset is highly imbalanced 'Accuracy' is not a good metric\n",
    "- Highly imbalanced data and cost of errors is so different, so AUC is useless here. \n",
    "- Balancing the dataset and use accuracy will solve the issue of data imbalanced but it won’t solve cost of error difference.\n",
    "- Both Precision and Recall measure wrt positive points, And F1 score is the harmonic mean of Precision and Recall. These metrices can resolve cost of error problem."
   ]
  },
  {
   "cell_type": "markdown",
   "id": "8aaf7d23",
   "metadata": {},
   "source": [
    "### Importing dataset and initial analysis"
   ]
  },
  {
   "cell_type": "code",
   "execution_count": 2,
   "id": "58a03ff0",
   "metadata": {},
   "outputs": [],
   "source": [
    "import pandas as pd\n",
    "df = pd.read_csv('./creditcard.csv')"
   ]
  },
  {
   "cell_type": "code",
   "execution_count": 3,
   "id": "79e3afa1",
   "metadata": {
    "scrolled": true
   },
   "outputs": [
    {
     "data": {
      "text/html": [
       "<div>\n",
       "<style scoped>\n",
       "    .dataframe tbody tr th:only-of-type {\n",
       "        vertical-align: middle;\n",
       "    }\n",
       "\n",
       "    .dataframe tbody tr th {\n",
       "        vertical-align: top;\n",
       "    }\n",
       "\n",
       "    .dataframe thead th {\n",
       "        text-align: right;\n",
       "    }\n",
       "</style>\n",
       "<table border=\"1\" class=\"dataframe\">\n",
       "  <thead>\n",
       "    <tr style=\"text-align: right;\">\n",
       "      <th></th>\n",
       "      <th>Time</th>\n",
       "      <th>V1</th>\n",
       "      <th>V2</th>\n",
       "      <th>V3</th>\n",
       "      <th>V4</th>\n",
       "      <th>V5</th>\n",
       "      <th>V6</th>\n",
       "      <th>V7</th>\n",
       "      <th>V8</th>\n",
       "      <th>V9</th>\n",
       "      <th>...</th>\n",
       "      <th>V21</th>\n",
       "      <th>V22</th>\n",
       "      <th>V23</th>\n",
       "      <th>V24</th>\n",
       "      <th>V25</th>\n",
       "      <th>V26</th>\n",
       "      <th>V27</th>\n",
       "      <th>V28</th>\n",
       "      <th>Amount</th>\n",
       "      <th>Class</th>\n",
       "    </tr>\n",
       "  </thead>\n",
       "  <tbody>\n",
       "    <tr>\n",
       "      <th>0</th>\n",
       "      <td>0.0</td>\n",
       "      <td>-1.359807</td>\n",
       "      <td>-0.072781</td>\n",
       "      <td>2.536347</td>\n",
       "      <td>1.378155</td>\n",
       "      <td>-0.338321</td>\n",
       "      <td>0.462388</td>\n",
       "      <td>0.239599</td>\n",
       "      <td>0.098698</td>\n",
       "      <td>0.363787</td>\n",
       "      <td>...</td>\n",
       "      <td>-0.018307</td>\n",
       "      <td>0.277838</td>\n",
       "      <td>-0.110474</td>\n",
       "      <td>0.066928</td>\n",
       "      <td>0.128539</td>\n",
       "      <td>-0.189115</td>\n",
       "      <td>0.133558</td>\n",
       "      <td>-0.021053</td>\n",
       "      <td>149.62</td>\n",
       "      <td>0</td>\n",
       "    </tr>\n",
       "    <tr>\n",
       "      <th>1</th>\n",
       "      <td>0.0</td>\n",
       "      <td>1.191857</td>\n",
       "      <td>0.266151</td>\n",
       "      <td>0.166480</td>\n",
       "      <td>0.448154</td>\n",
       "      <td>0.060018</td>\n",
       "      <td>-0.082361</td>\n",
       "      <td>-0.078803</td>\n",
       "      <td>0.085102</td>\n",
       "      <td>-0.255425</td>\n",
       "      <td>...</td>\n",
       "      <td>-0.225775</td>\n",
       "      <td>-0.638672</td>\n",
       "      <td>0.101288</td>\n",
       "      <td>-0.339846</td>\n",
       "      <td>0.167170</td>\n",
       "      <td>0.125895</td>\n",
       "      <td>-0.008983</td>\n",
       "      <td>0.014724</td>\n",
       "      <td>2.69</td>\n",
       "      <td>0</td>\n",
       "    </tr>\n",
       "    <tr>\n",
       "      <th>2</th>\n",
       "      <td>1.0</td>\n",
       "      <td>-1.358354</td>\n",
       "      <td>-1.340163</td>\n",
       "      <td>1.773209</td>\n",
       "      <td>0.379780</td>\n",
       "      <td>-0.503198</td>\n",
       "      <td>1.800499</td>\n",
       "      <td>0.791461</td>\n",
       "      <td>0.247676</td>\n",
       "      <td>-1.514654</td>\n",
       "      <td>...</td>\n",
       "      <td>0.247998</td>\n",
       "      <td>0.771679</td>\n",
       "      <td>0.909412</td>\n",
       "      <td>-0.689281</td>\n",
       "      <td>-0.327642</td>\n",
       "      <td>-0.139097</td>\n",
       "      <td>-0.055353</td>\n",
       "      <td>-0.059752</td>\n",
       "      <td>378.66</td>\n",
       "      <td>0</td>\n",
       "    </tr>\n",
       "    <tr>\n",
       "      <th>3</th>\n",
       "      <td>1.0</td>\n",
       "      <td>-0.966272</td>\n",
       "      <td>-0.185226</td>\n",
       "      <td>1.792993</td>\n",
       "      <td>-0.863291</td>\n",
       "      <td>-0.010309</td>\n",
       "      <td>1.247203</td>\n",
       "      <td>0.237609</td>\n",
       "      <td>0.377436</td>\n",
       "      <td>-1.387024</td>\n",
       "      <td>...</td>\n",
       "      <td>-0.108300</td>\n",
       "      <td>0.005274</td>\n",
       "      <td>-0.190321</td>\n",
       "      <td>-1.175575</td>\n",
       "      <td>0.647376</td>\n",
       "      <td>-0.221929</td>\n",
       "      <td>0.062723</td>\n",
       "      <td>0.061458</td>\n",
       "      <td>123.50</td>\n",
       "      <td>0</td>\n",
       "    </tr>\n",
       "    <tr>\n",
       "      <th>4</th>\n",
       "      <td>2.0</td>\n",
       "      <td>-1.158233</td>\n",
       "      <td>0.877737</td>\n",
       "      <td>1.548718</td>\n",
       "      <td>0.403034</td>\n",
       "      <td>-0.407193</td>\n",
       "      <td>0.095921</td>\n",
       "      <td>0.592941</td>\n",
       "      <td>-0.270533</td>\n",
       "      <td>0.817739</td>\n",
       "      <td>...</td>\n",
       "      <td>-0.009431</td>\n",
       "      <td>0.798278</td>\n",
       "      <td>-0.137458</td>\n",
       "      <td>0.141267</td>\n",
       "      <td>-0.206010</td>\n",
       "      <td>0.502292</td>\n",
       "      <td>0.219422</td>\n",
       "      <td>0.215153</td>\n",
       "      <td>69.99</td>\n",
       "      <td>0</td>\n",
       "    </tr>\n",
       "  </tbody>\n",
       "</table>\n",
       "<p>5 rows × 31 columns</p>\n",
       "</div>"
      ],
      "text/plain": [
       "   Time        V1        V2        V3        V4        V5        V6        V7  \\\n",
       "0   0.0 -1.359807 -0.072781  2.536347  1.378155 -0.338321  0.462388  0.239599   \n",
       "1   0.0  1.191857  0.266151  0.166480  0.448154  0.060018 -0.082361 -0.078803   \n",
       "2   1.0 -1.358354 -1.340163  1.773209  0.379780 -0.503198  1.800499  0.791461   \n",
       "3   1.0 -0.966272 -0.185226  1.792993 -0.863291 -0.010309  1.247203  0.237609   \n",
       "4   2.0 -1.158233  0.877737  1.548718  0.403034 -0.407193  0.095921  0.592941   \n",
       "\n",
       "         V8        V9  ...       V21       V22       V23       V24       V25  \\\n",
       "0  0.098698  0.363787  ... -0.018307  0.277838 -0.110474  0.066928  0.128539   \n",
       "1  0.085102 -0.255425  ... -0.225775 -0.638672  0.101288 -0.339846  0.167170   \n",
       "2  0.247676 -1.514654  ...  0.247998  0.771679  0.909412 -0.689281 -0.327642   \n",
       "3  0.377436 -1.387024  ... -0.108300  0.005274 -0.190321 -1.175575  0.647376   \n",
       "4 -0.270533  0.817739  ... -0.009431  0.798278 -0.137458  0.141267 -0.206010   \n",
       "\n",
       "        V26       V27       V28  Amount  Class  \n",
       "0 -0.189115  0.133558 -0.021053  149.62      0  \n",
       "1  0.125895 -0.008983  0.014724    2.69      0  \n",
       "2 -0.139097 -0.055353 -0.059752  378.66      0  \n",
       "3 -0.221929  0.062723  0.061458  123.50      0  \n",
       "4  0.502292  0.219422  0.215153   69.99      0  \n",
       "\n",
       "[5 rows x 31 columns]"
      ]
     },
     "execution_count": 3,
     "metadata": {},
     "output_type": "execute_result"
    }
   ],
   "source": [
    "df.head()"
   ]
  },
  {
   "cell_type": "code",
   "execution_count": 7,
   "id": "48f8694c",
   "metadata": {
    "scrolled": true
   },
   "outputs": [
    {
     "data": {
      "text/plain": [
       "(284807, 31)"
      ]
     },
     "execution_count": 7,
     "metadata": {},
     "output_type": "execute_result"
    }
   ],
   "source": [
    "df.shape"
   ]
  },
  {
   "cell_type": "code",
   "execution_count": 5,
   "id": "fcb55edb",
   "metadata": {},
   "outputs": [
    {
     "name": "stdout",
     "output_type": "stream",
     "text": [
      "<class 'pandas.core.frame.DataFrame'>\n",
      "RangeIndex: 284807 entries, 0 to 284806\n",
      "Data columns (total 31 columns):\n",
      " #   Column  Non-Null Count   Dtype  \n",
      "---  ------  --------------   -----  \n",
      " 0   Time    284807 non-null  float64\n",
      " 1   V1      284807 non-null  float64\n",
      " 2   V2      284807 non-null  float64\n",
      " 3   V3      284807 non-null  float64\n",
      " 4   V4      284807 non-null  float64\n",
      " 5   V5      284807 non-null  float64\n",
      " 6   V6      284807 non-null  float64\n",
      " 7   V7      284807 non-null  float64\n",
      " 8   V8      284807 non-null  float64\n",
      " 9   V9      284807 non-null  float64\n",
      " 10  V10     284807 non-null  float64\n",
      " 11  V11     284807 non-null  float64\n",
      " 12  V12     284807 non-null  float64\n",
      " 13  V13     284807 non-null  float64\n",
      " 14  V14     284807 non-null  float64\n",
      " 15  V15     284807 non-null  float64\n",
      " 16  V16     284807 non-null  float64\n",
      " 17  V17     284807 non-null  float64\n",
      " 18  V18     284807 non-null  float64\n",
      " 19  V19     284807 non-null  float64\n",
      " 20  V20     284807 non-null  float64\n",
      " 21  V21     284807 non-null  float64\n",
      " 22  V22     284807 non-null  float64\n",
      " 23  V23     284807 non-null  float64\n",
      " 24  V24     284807 non-null  float64\n",
      " 25  V25     284807 non-null  float64\n",
      " 26  V26     284807 non-null  float64\n",
      " 27  V27     284807 non-null  float64\n",
      " 28  V28     284807 non-null  float64\n",
      " 29  Amount  284807 non-null  float64\n",
      " 30  Class   284807 non-null  int64  \n",
      "dtypes: float64(30), int64(1)\n",
      "memory usage: 67.4 MB\n"
     ]
    }
   ],
   "source": [
    "df.info()"
   ]
  },
  {
   "cell_type": "markdown",
   "id": "dd4698c6",
   "metadata": {},
   "source": [
    "### check for missing values"
   ]
  },
  {
   "cell_type": "code",
   "execution_count": 8,
   "id": "fe1a07fd",
   "metadata": {},
   "outputs": [
    {
     "data": {
      "text/plain": [
       "Time      False\n",
       "V1        False\n",
       "V2        False\n",
       "V3        False\n",
       "V4        False\n",
       "V5        False\n",
       "V6        False\n",
       "V7        False\n",
       "V8        False\n",
       "V9        False\n",
       "V10       False\n",
       "V11       False\n",
       "V12       False\n",
       "V13       False\n",
       "V14       False\n",
       "V15       False\n",
       "V16       False\n",
       "V17       False\n",
       "V18       False\n",
       "V19       False\n",
       "V20       False\n",
       "V21       False\n",
       "V22       False\n",
       "V23       False\n",
       "V24       False\n",
       "V25       False\n",
       "V26       False\n",
       "V27       False\n",
       "V28       False\n",
       "Amount    False\n",
       "Class     False\n",
       "dtype: bool"
      ]
     },
     "execution_count": 8,
     "metadata": {},
     "output_type": "execute_result"
    }
   ],
   "source": [
    "df.isna().any()"
   ]
  },
  {
   "cell_type": "markdown",
   "id": "ef97f692",
   "metadata": {},
   "source": [
    "### Feature importance"
   ]
  },
  {
   "cell_type": "code",
   "execution_count": 38,
   "id": "6e4613f3",
   "metadata": {},
   "outputs": [
    {
     "data": {
      "text/plain": [
       "<AxesSubplot:title={'center':'Correlation with class'}>"
      ]
     },
     "execution_count": 38,
     "metadata": {},
     "output_type": "execute_result"
    },
    {
     "data": {
      "image/png": "[encoded data removed]",
      "text/plain": [
       "<Figure size 1440x720 with 1 Axes>"
      ]
     },
     "metadata": {
      "needs_background": "light"
     },
     "output_type": "display_data"
    }
   ],
   "source": [
    "import matplotlib.pyplot as plt\n",
    "import seaborn as sns\n",
    "\n",
    "df.corrwith(df.Class).plot.bar(\n",
    "        figsize = (20, 10), title = \"Correlation with class\", fontsize = 15,\n",
    "        rot = 45, grid = True)"
   ]
  },
  {
   "cell_type": "code",
   "execution_count": 32,
   "id": "d941c395",
   "metadata": {},
   "outputs": [
    {
     "name": "stderr",
     "output_type": "stream",
     "text": [
      "<ipython-input-32-91e0c708315b>:6: DeprecationWarning: `np.bool` is a deprecated alias for the builtin `bool`. To silence this warning, use `bool` by itself. Doing this will not modify any behavior and is safe. If you specifically wanted the numpy scalar type, use `np.bool_` here.\n",
      "Deprecated in NumPy 1.20; for more details and guidance: https://numpy.org/devdocs/release/1.20.0-notes.html#deprecations\n",
      "  mask = np.zeros_like(corr, dtype=np.bool)\n"
     ]
    },
    {
     "data": {
      "text/plain": [
       "<AxesSubplot:>"
      ]
     },
     "execution_count": 32,
     "metadata": {},
     "output_type": "execute_result"
    },
    {
     "data": {
      "image/png": "[encoded data removed]",
      "text/plain": [
       "<Figure size 1296x1080 with 2 Axes>"
      ]
     },
     "metadata": {
      "needs_background": "light"
     },
     "output_type": "display_data"
    }
   ],
   "source": [
    "# Generate correlation heatmap\n",
    "import numpy as np\n",
    "\n",
    "corr = df.corr()\n",
    "# Generate a mask for the upper symmetry of correlation matrix\n",
    "mask = np.zeros_like(corr, dtype=np.bool)\n",
    "mask[np.triu_indices_from(mask)] = True\n",
    "\n",
    "# Set up the matplotlib figure\n",
    "f, ax = plt.subplots(figsize=(18, 15))\n",
    "\n",
    "# Generate a custom diverging colormap\n",
    "cmap = sns.diverging_palette(220, 10, as_cmap=True)\n",
    "\n",
    "# Draw the heatmap with the mask and correct aspect ratio\n",
    "sns.heatmap(corr, mask=mask, cmap=cmap, vmax=.3, center=0,\n",
    "            square=True, linewidths=.5, cbar_kws={\"shrink\": .5})"
   ]
  },
  {
   "cell_type": "code",
   "execution_count": 39,
   "id": "fa73df83",
   "metadata": {},
   "outputs": [],
   "source": [
    "# will drop time feature before feature scaling\n",
    "df = df.drop(['Time'],axis=1)"
   ]
  },
  {
   "cell_type": "code",
   "execution_count": 40,
   "id": "f6ad0289",
   "metadata": {},
   "outputs": [
    {
     "name": "stdout",
     "output_type": "stream",
     "text": [
      "<class 'pandas.core.frame.DataFrame'>\n",
      "RangeIndex: 284807 entries, 0 to 284806\n",
      "Data columns (total 30 columns):\n",
      " #   Column  Non-Null Count   Dtype  \n",
      "---  ------  --------------   -----  \n",
      " 0   V1      284807 non-null  float64\n",
      " 1   V2      284807 non-null  float64\n",
      " 2   V3      284807 non-null  float64\n",
      " 3   V4      284807 non-null  float64\n",
      " 4   V5      284807 non-null  float64\n",
      " 5   V6      284807 non-null  float64\n",
      " 6   V7      284807 non-null  float64\n",
      " 7   V8      284807 non-null  float64\n",
      " 8   V9      284807 non-null  float64\n",
      " 9   V10     284807 non-null  float64\n",
      " 10  V11     284807 non-null  float64\n",
      " 11  V12     284807 non-null  float64\n",
      " 12  V13     284807 non-null  float64\n",
      " 13  V14     284807 non-null  float64\n",
      " 14  V15     284807 non-null  float64\n",
      " 15  V16     284807 non-null  float64\n",
      " 16  V17     284807 non-null  float64\n",
      " 17  V18     284807 non-null  float64\n",
      " 18  V19     284807 non-null  float64\n",
      " 19  V20     284807 non-null  float64\n",
      " 20  V21     284807 non-null  float64\n",
      " 21  V22     284807 non-null  float64\n",
      " 22  V23     284807 non-null  float64\n",
      " 23  V24     284807 non-null  float64\n",
      " 24  V25     284807 non-null  float64\n",
      " 25  V26     284807 non-null  float64\n",
      " 26  V27     284807 non-null  float64\n",
      " 27  V28     284807 non-null  float64\n",
      " 28  Amount  284807 non-null  float64\n",
      " 29  Class   284807 non-null  int64  \n",
      "dtypes: float64(29), int64(1)\n",
      "memory usage: 65.2 MB\n"
     ]
    }
   ],
   "source": [
    "df.info()"
   ]
  },
  {
   "cell_type": "markdown",
   "id": "917c8b07",
   "metadata": {},
   "source": [
    "### Splitting the dataset before feature analysis"
   ]
  },
  {
   "cell_type": "code",
   "execution_count": 41,
   "id": "a542d68e",
   "metadata": {},
   "outputs": [],
   "source": [
    "#### Dividing Independent and Dependent Features\n",
    "X=df.drop(\"Class\",axis=1)\n",
    "y=df.Class"
   ]
  },
  {
   "cell_type": "code",
   "execution_count": 42,
   "id": "46c9f3cb",
   "metadata": {},
   "outputs": [
    {
     "name": "stdout",
     "output_type": "stream",
     "text": [
      "(284807, 29)\n",
      "(284807,)\n"
     ]
    }
   ],
   "source": [
    "print(X.shape)\n",
    "print(y.shape)"
   ]
  },
  {
   "cell_type": "code",
   "execution_count": 43,
   "id": "bedf1489",
   "metadata": {},
   "outputs": [],
   "source": [
    "from sklearn.model_selection import train_test_split\n",
    "X_train,X_test,y_train,y_test=train_test_split(X,y,train_size=0.7)"
   ]
  },
  {
   "cell_type": "code",
   "execution_count": 63,
   "id": "4da8cdf3",
   "metadata": {},
   "outputs": [
    {
     "data": {
      "text/plain": [
       "(85443, 29)"
      ]
     },
     "execution_count": 63,
     "metadata": {},
     "output_type": "execute_result"
    }
   ],
   "source": [
    "X_test.shape"
   ]
  },
  {
   "cell_type": "markdown",
   "id": "3a25ea4a",
   "metadata": {},
   "source": [
    "### Feature Scaling"
   ]
  },
  {
   "cell_type": "code",
   "execution_count": 14,
   "id": "68781f3e",
   "metadata": {},
   "outputs": [
    {
     "name": "stdout",
     "output_type": "stream",
     "text": [
      "Time      172792.000000\n",
      "V1             2.454930\n",
      "V2            22.057729\n",
      "V3             9.382558\n",
      "V4            16.875344\n",
      "V5            34.801666\n",
      "V6            73.301626\n",
      "V7           120.589494\n",
      "V8            20.007208\n",
      "V9            15.594995\n",
      "V10           23.745136\n",
      "V11           12.018913\n",
      "V12            7.848392\n",
      "V13            7.126883\n",
      "V14           10.526766\n",
      "V15            8.877742\n",
      "V16           17.315112\n",
      "V17            9.253526\n",
      "V18            5.041069\n",
      "V19            5.591971\n",
      "V20           39.420904\n",
      "V21           27.202839\n",
      "V22           10.503090\n",
      "V23           22.528412\n",
      "V24            4.584549\n",
      "V25            7.519589\n",
      "V26            3.517346\n",
      "V27           31.612198\n",
      "V28           33.847808\n",
      "Amount     25691.160000\n",
      "Class          1.000000\n",
      "dtype: float64\n"
     ]
    }
   ],
   "source": [
    "print(df.max())"
   ]
  },
  {
   "cell_type": "code",
   "execution_count": 15,
   "id": "1830b8a8",
   "metadata": {},
   "outputs": [
    {
     "name": "stdout",
     "output_type": "stream",
     "text": [
      "Time        0.000000\n",
      "V1        -56.407510\n",
      "V2        -72.715728\n",
      "V3        -48.325589\n",
      "V4         -5.683171\n",
      "V5       -113.743307\n",
      "V6        -26.160506\n",
      "V7        -43.557242\n",
      "V8        -73.216718\n",
      "V9        -13.434066\n",
      "V10       -24.588262\n",
      "V11        -4.797473\n",
      "V12       -18.683715\n",
      "V13        -5.791881\n",
      "V14       -19.214325\n",
      "V15        -4.498945\n",
      "V16       -14.129855\n",
      "V17       -25.162799\n",
      "V18        -9.498746\n",
      "V19        -7.213527\n",
      "V20       -54.497720\n",
      "V21       -34.830382\n",
      "V22       -10.933144\n",
      "V23       -44.807735\n",
      "V24        -2.836627\n",
      "V25       -10.295397\n",
      "V26        -2.604551\n",
      "V27       -22.565679\n",
      "V28       -15.430084\n",
      "Amount      0.000000\n",
      "Class       0.000000\n",
      "dtype: float64\n"
     ]
    }
   ],
   "source": [
    "print(df.min())"
   ]
  },
  {
   "cell_type": "code",
   "execution_count": 44,
   "id": "8b3a09ee",
   "metadata": {},
   "outputs": [],
   "source": [
    "# Standardizing\n",
    "\n",
    "from sklearn.preprocessing import StandardScaler\n",
    "scalar=StandardScaler()"
   ]
  },
  {
   "cell_type": "code",
   "execution_count": 45,
   "id": "95c84e15",
   "metadata": {},
   "outputs": [],
   "source": [
    "X_train_scaled=scalar.fit_transform(X_train)\n",
    "X_test_scaled=scalar.transform(X_test)"
   ]
  },
  {
   "cell_type": "code",
   "execution_count": 47,
   "id": "48e6081e",
   "metadata": {
    "scrolled": true
   },
   "outputs": [
    {
     "data": {
      "text/plain": [
       "array([-0.5938552 ,  0.53482553, -1.1912596 , -2.06077198,  1.4226842 ,\n",
       "        2.0001791 , -0.17333777,  1.28154918,  0.46254207, -1.52246882,\n",
       "       -0.73529731,  0.63397984, -0.23147847,  0.94045669,  0.03757182,\n",
       "       -0.44327396, -0.39698295,  0.36882195,  0.63585533, -0.255457  ,\n",
       "        0.16974584,  0.32415615, -0.25755749,  1.69779321,  0.2257132 ,\n",
       "       -1.68311164,  0.22265235,  0.21191451, -0.248296  ])"
      ]
     },
     "execution_count": 47,
     "metadata": {},
     "output_type": "execute_result"
    }
   ],
   "source": [
    "X_train_scaled[0]"
   ]
  },
  {
   "cell_type": "code",
   "execution_count": null,
   "id": "c6299aed",
   "metadata": {},
   "outputs": [],
   "source": []
  },
  {
   "cell_type": "markdown",
   "id": "4c6219d1",
   "metadata": {},
   "source": [
    "### Model training"
   ]
  },
  {
   "cell_type": "code",
   "execution_count": 54,
   "id": "e70a1e07",
   "metadata": {},
   "outputs": [],
   "source": [
    "from sklearn.neural_network import MLPClassifier\n",
    "from sklearn.neighbors import KNeighborsClassifier\n",
    "from sklearn.svm import SVC\n",
    "from sklearn.gaussian_process.kernels import RBF\n",
    "from sklearn.tree import DecisionTreeClassifier\n",
    "from sklearn.ensemble import RandomForestClassifier, AdaBoostClassifier\n",
    "from sklearn.naive_bayes import GaussianNB\n",
    "from sklearn.metrics import precision_score,recall_score,f1_score"
   ]
  },
  {
   "cell_type": "code",
   "execution_count": 55,
   "id": "8f117830",
   "metadata": {},
   "outputs": [
    {
     "name": "stdout",
     "output_type": "stream",
     "text": [
      "Nearest Neighbors\n",
      "Model Performance of training set\n",
      "- F1 Score : 0.9995\n",
      "- Precision : 0.9495\n",
      "- Recall : 0.7966\n",
      "-----------------------------------\n",
      "Model Performance of test set\n",
      "- F1 Score : 0.9996\n",
      "- Precision : 0.9244\n",
      "- Recall : 0.7971\n",
      "===================================\n",
      "\n",
      "\n",
      "Linear SVM\n",
      "Model Performance of training set\n",
      "- F1 Score : 0.9993\n",
      "- Precision : 0.8389\n",
      "- Recall : 0.7797\n",
      "-----------------------------------\n",
      "Model Performance of test set\n",
      "- F1 Score : 0.9995\n",
      "- Precision : 0.8603\n",
      "- Recall : 0.8478\n",
      "===================================\n",
      "\n",
      "\n",
      "RBF SVM\n",
      "Model Performance of training set\n",
      "- F1 Score : 0.9996\n",
      "- Precision : 0.9703\n",
      "- Recall : 0.8305\n",
      "-----------------------------------\n",
      "Model Performance of test set\n",
      "- F1 Score : 0.9994\n",
      "- Precision : 0.9794\n",
      "- Recall : 0.6884\n",
      "===================================\n",
      "\n",
      "\n",
      "Decision Tree\n",
      "Model Performance of training set\n",
      "- F1 Score : 1.0000\n",
      "- Precision : 1.0000\n",
      "- Recall : 1.0000\n",
      "-----------------------------------\n",
      "Model Performance of test set\n",
      "- F1 Score : 0.9992\n",
      "- Precision : 0.7365\n",
      "- Recall : 0.7899\n",
      "===================================\n",
      "\n",
      "\n",
      "Random Forest\n",
      "Model Performance of training set\n",
      "- F1 Score : 1.0000\n",
      "- Precision : 1.0000\n",
      "- Recall : 1.0000\n",
      "-----------------------------------\n",
      "Model Performance of test set\n",
      "- F1 Score : 0.9996\n",
      "- Precision : 0.9652\n",
      "- Recall : 0.8043\n",
      "===================================\n",
      "\n",
      "\n",
      "Neural Net\n",
      "Model Performance of training set\n",
      "- F1 Score : 0.9998\n",
      "- Precision : 0.9734\n",
      "- Recall : 0.9294\n",
      "-----------------------------------\n",
      "Model Performance of test set\n",
      "- F1 Score : 0.9996\n",
      "- Precision : 0.9180\n",
      "- Recall : 0.8116\n",
      "===================================\n",
      "\n",
      "\n",
      "AdaBoost\n",
      "Model Performance of training set\n",
      "- F1 Score : 0.9991\n",
      "- Precision : 0.8369\n",
      "- Recall : 0.6667\n",
      "-----------------------------------\n",
      "Model Performance of test set\n",
      "- F1 Score : 0.9992\n",
      "- Precision : 0.8246\n",
      "- Recall : 0.6812\n",
      "===================================\n",
      "\n",
      "\n",
      "Naive Bayes\n",
      "Model Performance of training set\n",
      "- F1 Score : 0.9870\n",
      "- Precision : 0.0612\n",
      "- Recall : 0.8164\n",
      "-----------------------------------\n",
      "Model Performance of test set\n",
      "- F1 Score : 0.9874\n",
      "- Precision : 0.0600\n",
      "- Recall : 0.8623\n",
      "===================================\n",
      "\n",
      "\n"
     ]
    },
    {
     "data": {
      "image/png": "[encoded data removed]",
      "text/plain": [
       "<Figure size 1440x576 with 1 Axes>"
      ]
     },
     "metadata": {
      "needs_background": "light"
     },
     "output_type": "display_data"
    }
   ],
   "source": [
    "h = .02  # step size in the mesh\n",
    "metrics = np.zeros((8,3))\n",
    "\n",
    "names = [\"Nearest Neighbors\", \"Linear SVM\", \"RBF SVM\",\n",
    "         \"Decision Tree\", \"Random Forest\", \"Neural Network\", \"AdaBoost\",\n",
    "         \"Naive Bayes\"]\n",
    "\n",
    "models = {\n",
    "    \"Nearest Neighbors\" : KNeighborsClassifier(), \n",
    "    \"Linear SVM\" : SVC(kernel=\"linear\"), \n",
    "    \"RBF SVM\" : SVC(),\n",
    "    \"Decision Tree\" : DecisionTreeClassifier(), \n",
    "    \"Random Forest\" : RandomForestClassifier(), \n",
    "    \"Neural Net\" : MLPClassifier(), \n",
    "    \"AdaBoost\" : AdaBoostClassifier(),\n",
    "    \"Naive Bayes\" : GaussianNB()\n",
    "}\n",
    "\n",
    "\n",
    "for i in range(len(list(models))):\n",
    "    model=list(models.values())[i]\n",
    "    model.fit(X_train_scaled,y_train)\n",
    "    # Make predictions\n",
    "    y_train_pred= model.predict(X_train_scaled)\n",
    "    y_test_pred= model.predict(X_test_scaled)\n",
    "    \n",
    "    # training performances\n",
    "    train_f1 = f1_score(y_train,y_train_pred,average='weighted')\n",
    "    train_precision= precision_score(y_train,y_train_pred)\n",
    "    train_recall= recall_score(y_train,y_train_pred)\n",
    "    \n",
    "    #test data performance\n",
    "    test_f1 = f1_score(y_test,y_test_pred,average='weighted')\n",
    "    test_precision= precision_score(y_test,y_test_pred)\n",
    "    test_recall= recall_score(y_test,y_test_pred)\n",
    "        \n",
    "    metrics[i,:]= [test_f1,test_precision,test_recall]\n",
    "    \n",
    "    print (list(models.keys())[i])\n",
    "    \n",
    "    print (\"Model Performance of training set\")\n",
    "    print (\"- F1 Score : {:.4f}\".format(train_f1))\n",
    "    print (\"- Precision : {:.4f}\".format(train_precision))\n",
    "    print (\"- Recall : {:.4f}\".format(train_recall))\n",
    "    \n",
    "    print ('-'*35)\n",
    "    \n",
    "    print (\"Model Performance of test set\")\n",
    "    print (\"- F1 Score : {:.4f}\".format(test_f1))\n",
    "    print (\"- Precision : {:.4f}\".format(test_precision))\n",
    "    print (\"- Recall : {:.4f}\".format(test_recall))\n",
    "           \n",
    "    print('='*35)\n",
    "    print('\\n')\n",
    "    \n",
    "a=np.arange(8)\n",
    "w=0.15\n",
    "fig,ax=plt.subplots(figsize=(20,8),edgecolor='k')\n",
    "p1=ax.bar(a,metrics[:,0],w,color='b')\n",
    "p2=ax.bar(a-w,metrics[:,1],w,color='g')\n",
    "p3=ax.bar(a+w,metrics[:,2],w,color='y')\n",
    "ax.set_xticks(a)\n",
    "ax.set_xticklabels(('KNN','Linear SVM','RBF SVM','DT','RF','NN','AdaB','GNN'))\n",
    "ax.set_title('Test data performance')\n",
    "ax.legend((p1[0],p2[0],p3[0]),('F1 score','Precision','Recall'))\n",
    "plt.xlabel('Algorithms')\n",
    "plt.ylabel('Performance')\n",
    "plt.grid()\n",
    "plt.show()\n",
    "                "
   ]
  },
  {
   "cell_type": "markdown",
   "id": "03790351",
   "metadata": {},
   "source": [
    "## Note :\n",
    "Since there is no noteworthy difference in the F1 scores on training data and testing data, we can confirm that there is no overfitting issue with any model."
   ]
  },
  {
   "cell_type": "code",
   "execution_count": null,
   "id": "87e5e2e2",
   "metadata": {},
   "outputs": [],
   "source": []
  },
  {
   "cell_type": "markdown",
   "id": "5e4f0fa2",
   "metadata": {},
   "source": [
    "## Lets try to increase Recall value by customizing softmax threshold and setting class weights"
   ]
  },
  {
   "cell_type": "code",
   "execution_count": 59,
   "id": "ec74d04e",
   "metadata": {},
   "outputs": [
    {
     "name": "stdout",
     "output_type": "stream",
     "text": [
      "Epoch 1/100\n",
      "6231/6231 [==============================] - 13s 2ms/step - loss: 0.0179 - accuracy: 0.9973\n",
      "Epoch 2/100\n",
      "6231/6231 [==============================] - 12s 2ms/step - loss: 0.0076 - accuracy: 0.9993\n",
      "Epoch 3/100\n",
      "6231/6231 [==============================] - 12s 2ms/step - loss: 0.0072 - accuracy: 0.9993\n",
      "Epoch 4/100\n",
      "6231/6231 [==============================] - 12s 2ms/step - loss: 0.0067 - accuracy: 0.9993\n",
      "Epoch 5/100\n",
      "6231/6231 [==============================] - 12s 2ms/step - loss: 0.0064 - accuracy: 0.9994\n",
      "Epoch 6/100\n",
      "6231/6231 [==============================] - 11s 2ms/step - loss: 0.0061 - accuracy: 0.9994\n",
      "Epoch 7/100\n",
      "6231/6231 [==============================] - 12s 2ms/step - loss: 0.0058 - accuracy: 0.9993\n",
      "Epoch 8/100\n",
      "6231/6231 [==============================] - 11s 2ms/step - loss: 0.0056 - accuracy: 0.9994\n",
      "Epoch 9/100\n",
      "6231/6231 [==============================] - 12s 2ms/step - loss: 0.0054 - accuracy: 0.9994\n",
      "Epoch 10/100\n",
      "6231/6231 [==============================] - 11s 2ms/step - loss: 0.0053 - accuracy: 0.9994\n",
      "Epoch 11/100\n",
      "6231/6231 [==============================] - 12s 2ms/step - loss: 0.0052 - accuracy: 0.9994\n",
      "Epoch 12/100\n",
      "6231/6231 [==============================] - 12s 2ms/step - loss: 0.0050 - accuracy: 0.9994\n",
      "Epoch 13/100\n",
      "6231/6231 [==============================] - 12s 2ms/step - loss: 0.0048 - accuracy: 0.9994\n",
      "Epoch 14/100\n",
      "6231/6231 [==============================] - 12s 2ms/step - loss: 0.0047 - accuracy: 0.9994\n",
      "Epoch 15/100\n",
      "6231/6231 [==============================] - 12s 2ms/step - loss: 0.0045 - accuracy: 0.9994\n",
      "Epoch 16/100\n",
      "6231/6231 [==============================] - 11s 2ms/step - loss: 0.0044 - accuracy: 0.9995\n",
      "Epoch 17/100\n",
      "6231/6231 [==============================] - 12s 2ms/step - loss: 0.0044 - accuracy: 0.9995\n",
      "Epoch 18/100\n",
      "6231/6231 [==============================] - 12s 2ms/step - loss: 0.0043 - accuracy: 0.9995\n",
      "Epoch 19/100\n",
      "6231/6231 [==============================] - 12s 2ms/step - loss: 0.0041 - accuracy: 0.9995\n",
      "Epoch 20/100\n",
      "6231/6231 [==============================] - 12s 2ms/step - loss: 0.0041 - accuracy: 0.9996\n",
      "Epoch 21/100\n",
      "6231/6231 [==============================] - 11s 2ms/step - loss: 0.0040 - accuracy: 0.9995\n",
      "Epoch 22/100\n",
      "6231/6231 [==============================] - 12s 2ms/step - loss: 0.0038 - accuracy: 0.9996\n",
      "Epoch 23/100\n",
      "6231/6231 [==============================] - 11s 2ms/step - loss: 0.0039 - accuracy: 0.9995\n",
      "Epoch 24/100\n",
      "6231/6231 [==============================] - 12s 2ms/step - loss: 0.0038 - accuracy: 0.9996\n",
      "Epoch 25/100\n",
      "6231/6231 [==============================] - 12s 2ms/step - loss: 0.0036 - accuracy: 0.9996\n",
      "Epoch 26/100\n",
      "6231/6231 [==============================] - 11s 2ms/step - loss: 0.0038 - accuracy: 0.9996\n",
      "Epoch 27/100\n",
      "6231/6231 [==============================] - 12s 2ms/step - loss: 0.0037 - accuracy: 0.9995\n",
      "Epoch 28/100\n",
      "6231/6231 [==============================] - 12s 2ms/step - loss: 0.0035 - accuracy: 0.9996\n",
      "Epoch 29/100\n",
      "6231/6231 [==============================] - 11s 2ms/step - loss: 0.0036 - accuracy: 0.9996\n",
      "Epoch 30/100\n",
      "6231/6231 [==============================] - 12s 2ms/step - loss: 0.0034 - accuracy: 0.9995\n",
      "Epoch 31/100\n",
      "6231/6231 [==============================] - 12s 2ms/step - loss: 0.0034 - accuracy: 0.9996\n",
      "Epoch 32/100\n",
      "6231/6231 [==============================] - 12s 2ms/step - loss: 0.0035 - accuracy: 0.9995\n",
      "Epoch 33/100\n",
      "6231/6231 [==============================] - 12s 2ms/step - loss: 0.0033 - accuracy: 0.9996\n",
      "Epoch 34/100\n",
      "6231/6231 [==============================] - 12s 2ms/step - loss: 0.0031 - accuracy: 0.9996\n",
      "Epoch 35/100\n",
      "6231/6231 [==============================] - 12s 2ms/step - loss: 0.0032 - accuracy: 0.9996\n",
      "Epoch 36/100\n",
      "6231/6231 [==============================] - 12s 2ms/step - loss: 0.0032 - accuracy: 0.9996\n",
      "Epoch 37/100\n",
      "6231/6231 [==============================] - 11s 2ms/step - loss: 0.0032 - accuracy: 0.9996\n",
      "Epoch 38/100\n",
      "6231/6231 [==============================] - 12s 2ms/step - loss: 0.0030 - accuracy: 0.9996\n",
      "Epoch 39/100\n",
      "6231/6231 [==============================] - 12s 2ms/step - loss: 0.0030 - accuracy: 0.9996\n",
      "Epoch 40/100\n",
      "6231/6231 [==============================] - 12s 2ms/step - loss: 0.0030 - accuracy: 0.9996\n",
      "Epoch 41/100\n",
      "6231/6231 [==============================] - 12s 2ms/step - loss: 0.0030 - accuracy: 0.9996\n",
      "Epoch 42/100\n",
      "6231/6231 [==============================] - 11s 2ms/step - loss: 0.0029 - accuracy: 0.9996\n",
      "Epoch 43/100\n",
      "6231/6231 [==============================] - 12s 2ms/step - loss: 0.0028 - accuracy: 0.9996\n",
      "Epoch 44/100\n",
      "6231/6231 [==============================] - 12s 2ms/step - loss: 0.0027 - accuracy: 0.9996\n",
      "Epoch 45/100\n",
      "6231/6231 [==============================] - 12s 2ms/step - loss: 0.0026 - accuracy: 0.9996\n",
      "Epoch 46/100\n",
      "6231/6231 [==============================] - 12s 2ms/step - loss: 0.0027 - accuracy: 0.9996\n",
      "Epoch 47/100\n",
      "6231/6231 [==============================] - 12s 2ms/step - loss: 0.0026 - accuracy: 0.9996\n",
      "Epoch 48/100\n",
      "6231/6231 [==============================] - 12s 2ms/step - loss: 0.0025 - accuracy: 0.9996\n",
      "Epoch 49/100\n",
      "6231/6231 [==============================] - 12s 2ms/step - loss: 0.0027 - accuracy: 0.9996\n",
      "Epoch 50/100\n",
      "6231/6231 [==============================] - 12s 2ms/step - loss: 0.0024 - accuracy: 0.9996\n",
      "Epoch 51/100\n",
      "6231/6231 [==============================] - 12s 2ms/step - loss: 0.0025 - accuracy: 0.9996\n",
      "Epoch 52/100\n",
      "6231/6231 [==============================] - 12s 2ms/step - loss: 0.0023 - accuracy: 0.9996\n",
      "Epoch 53/100\n",
      "6231/6231 [==============================] - 12s 2ms/step - loss: 0.0023 - accuracy: 0.9997\n",
      "Epoch 54/100\n",
      "6231/6231 [==============================] - 12s 2ms/step - loss: 0.0026 - accuracy: 0.9996\n",
      "Epoch 55/100\n",
      "6231/6231 [==============================] - 12s 2ms/step - loss: 0.0025 - accuracy: 0.9996\n",
      "Epoch 56/100\n",
      "6231/6231 [==============================] - 12s 2ms/step - loss: 0.0022 - accuracy: 0.9996\n",
      "Epoch 57/100\n",
      "6231/6231 [==============================] - 12s 2ms/step - loss: 0.0023 - accuracy: 0.9996\n",
      "Epoch 58/100\n",
      "6231/6231 [==============================] - 12s 2ms/step - loss: 0.0023 - accuracy: 0.9996\n",
      "Epoch 59/100\n",
      "6231/6231 [==============================] - 12s 2ms/step - loss: 0.0021 - accuracy: 0.9997\n",
      "Epoch 60/100\n",
      "6231/6231 [==============================] - 11s 2ms/step - loss: 0.0024 - accuracy: 0.9996\n",
      "Epoch 61/100\n",
      "6231/6231 [==============================] - 12s 2ms/step - loss: 0.0022 - accuracy: 0.9996\n",
      "Epoch 62/100\n",
      "6231/6231 [==============================] - 12s 2ms/step - loss: 0.0023 - accuracy: 0.9997\n",
      "Epoch 63/100\n",
      "6231/6231 [==============================] - 12s 2ms/step - loss: 0.0021 - accuracy: 0.9996\n",
      "Epoch 64/100\n",
      "6231/6231 [==============================] - 12s 2ms/step - loss: 0.0021 - accuracy: 0.9996\n",
      "Epoch 65/100\n",
      "6231/6231 [==============================] - 12s 2ms/step - loss: 0.0021 - accuracy: 0.9997\n",
      "Epoch 66/100\n",
      "6231/6231 [==============================] - 11s 2ms/step - loss: 0.0020 - accuracy: 0.9997\n",
      "Epoch 67/100\n",
      "6231/6231 [==============================] - 11s 2ms/step - loss: 0.0021 - accuracy: 0.9997\n",
      "Epoch 68/100\n",
      "6231/6231 [==============================] - 11s 2ms/step - loss: 0.0020 - accuracy: 0.9996\n",
      "Epoch 69/100\n",
      "6231/6231 [==============================] - 12s 2ms/step - loss: 0.0021 - accuracy: 0.9997\n",
      "Epoch 70/100\n",
      "6231/6231 [==============================] - 12s 2ms/step - loss: 0.0020 - accuracy: 0.9996\n",
      "Epoch 71/100\n",
      "6231/6231 [==============================] - 12s 2ms/step - loss: 0.0023 - accuracy: 0.9996\n",
      "Epoch 72/100\n",
      "6231/6231 [==============================] - 12s 2ms/step - loss: 0.0020 - accuracy: 0.9997\n",
      "Epoch 73/100\n",
      "6231/6231 [==============================] - 12s 2ms/step - loss: 0.0021 - accuracy: 0.9997\n",
      "Epoch 74/100\n",
      "6231/6231 [==============================] - 11s 2ms/step - loss: 0.0019 - accuracy: 0.9997\n",
      "Epoch 75/100\n",
      "6231/6231 [==============================] - 12s 2ms/step - loss: 0.0020 - accuracy: 0.9997\n",
      "Epoch 76/100\n",
      "6231/6231 [==============================] - 12s 2ms/step - loss: 0.0020 - accuracy: 0.9996\n",
      "Epoch 77/100\n",
      "6231/6231 [==============================] - 11s 2ms/step - loss: 0.0018 - accuracy: 0.9997\n",
      "Epoch 78/100\n",
      "6231/6231 [==============================] - 11s 2ms/step - loss: 0.0017 - accuracy: 0.9997\n",
      "Epoch 79/100\n"
     ]
    },
    {
     "name": "stdout",
     "output_type": "stream",
     "text": [
      "6231/6231 [==============================] - 12s 2ms/step - loss: 0.0022 - accuracy: 0.9996\n",
      "Epoch 80/100\n",
      "6231/6231 [==============================] - 12s 2ms/step - loss: 0.0016 - accuracy: 0.9997\n",
      "Epoch 81/100\n",
      "6231/6231 [==============================] - 12s 2ms/step - loss: 0.0019 - accuracy: 0.9996\n",
      "Epoch 82/100\n",
      "6231/6231 [==============================] - 12s 2ms/step - loss: 0.0018 - accuracy: 0.9996\n",
      "Epoch 83/100\n",
      "6231/6231 [==============================] - 12s 2ms/step - loss: 0.0016 - accuracy: 0.9997\n",
      "Epoch 84/100\n",
      "6231/6231 [==============================] - 12s 2ms/step - loss: 0.0019 - accuracy: 0.9997\n",
      "Epoch 85/100\n",
      "6231/6231 [==============================] - 10s 2ms/step - loss: 0.0018 - accuracy: 0.9997\n",
      "Epoch 86/100\n",
      "6231/6231 [==============================] - 12s 2ms/step - loss: 0.0017 - accuracy: 0.9997\n",
      "Epoch 87/100\n",
      "6231/6231 [==============================] - 12s 2ms/step - loss: 0.0017 - accuracy: 0.9997\n",
      "Epoch 88/100\n",
      "6231/6231 [==============================] - 12s 2ms/step - loss: 0.0018 - accuracy: 0.9997\n",
      "Epoch 89/100\n",
      "6231/6231 [==============================] - 11s 2ms/step - loss: 0.0015 - accuracy: 0.9997\n",
      "Epoch 90/100\n",
      "6231/6231 [==============================] - 12s 2ms/step - loss: 0.0017 - accuracy: 0.9997\n",
      "Epoch 91/100\n",
      "6231/6231 [==============================] - 11s 2ms/step - loss: 0.0017 - accuracy: 0.9997\n",
      "Epoch 92/100\n",
      "6231/6231 [==============================] - 12s 2ms/step - loss: 0.0016 - accuracy: 0.9997\n",
      "Epoch 93/100\n",
      "6231/6231 [==============================] - 11s 2ms/step - loss: 0.0017 - accuracy: 0.9997\n",
      "Epoch 94/100\n",
      "6231/6231 [==============================] - 12s 2ms/step - loss: 0.0013 - accuracy: 0.9997\n",
      "Epoch 95/100\n",
      "6231/6231 [==============================] - 11s 2ms/step - loss: 0.0016 - accuracy: 0.9997\n",
      "Epoch 96/100\n",
      "6231/6231 [==============================] - 11s 2ms/step - loss: 0.0015 - accuracy: 0.9997\n",
      "Epoch 97/100\n",
      "6231/6231 [==============================] - 11s 2ms/step - loss: 0.0015 - accuracy: 0.9997\n",
      "Epoch 98/100\n",
      "6231/6231 [==============================] - 11s 2ms/step - loss: 0.0015 - accuracy: 0.9997\n",
      "Epoch 99/100\n",
      "6231/6231 [==============================] - 12s 2ms/step - loss: 0.0017 - accuracy: 0.9997\n",
      "Epoch 100/100\n",
      "6231/6231 [==============================] - 11s 2ms/step - loss: 0.0016 - accuracy: 0.9997\n"
     ]
    },
    {
     "data": {
      "text/plain": [
       "<keras.callbacks.History at 0x213f1e651f0>"
      ]
     },
     "execution_count": 59,
     "metadata": {},
     "output_type": "execute_result"
    }
   ],
   "source": [
    "# Importing the Keras libraries and packages\n",
    "import tensorflow as tf\n",
    "from tensorflow.keras.models import Sequential\n",
    "from tensorflow.keras.layers import Dense\n",
    "\n",
    "# Initialising the ANN\n",
    "classifier = Sequential()\n",
    "initializer = tf.keras.initializers.GlorotNormal()\n",
    "class_weight = {0: 1.,\n",
    "                1: 3.}\n",
    "\n",
    "# Adding the input layer and the first hidden layer\n",
    "classifier.add(Dense(units =15 , kernel_initializer = initializer, activation = 'elu', input_dim = 29))\n",
    "\n",
    "# Adding the second hidden layer\n",
    "classifier.add(Dense(units = 15, kernel_initializer = initializer, activation = 'elu'))\n",
    "\n",
    "# Adding the output layer\n",
    "classifier.add(Dense(units = 1, kernel_initializer = initializer, activation = 'sigmoid'))\n",
    "\n",
    "# Compiling the ANN\n",
    "classifier.compile(optimizer = 'adam', loss = 'binary_crossentropy', metrics = ['accuracy'])\n",
    "\n",
    "# Fitting the ANN to the Training set\n",
    "classifier.fit(X_train_scaled, y_train, batch_size = 32, epochs = 100, class_weight=class_weight)"
   ]
  },
  {
   "cell_type": "code",
   "execution_count": 60,
   "id": "ff359324",
   "metadata": {},
   "outputs": [],
   "source": [
    "# Predicting the Test set results\n",
    "y_pred = classifier.predict(X_test_scaled)"
   ]
  },
  {
   "cell_type": "code",
   "execution_count": 64,
   "id": "b4c05244",
   "metadata": {},
   "outputs": [
    {
     "name": "stdout",
     "output_type": "stream",
     "text": [
      "[8.997926e-09]\n"
     ]
    }
   ],
   "source": [
    "print(y_pred[0])"
   ]
  },
  {
   "cell_type": "code",
   "execution_count": 78,
   "id": "caafa36c",
   "metadata": {},
   "outputs": [],
   "source": [
    "# redefining the softmax threshold\n",
    "\n",
    "for i, predicted in enumerate(y_pred):\n",
    "    if predicted[0] > 0.2:\n",
    "        y_pred[i]=1\n",
    "    else:\n",
    "        y_pred[i]=0"
   ]
  },
  {
   "cell_type": "code",
   "execution_count": 67,
   "id": "24311644",
   "metadata": {},
   "outputs": [
    {
     "name": "stdout",
     "output_type": "stream",
     "text": [
      "[0.]\n"
     ]
    }
   ],
   "source": [
    "print(y_pred[0])"
   ]
  },
  {
   "cell_type": "code",
   "execution_count": 79,
   "id": "3a76dc9c",
   "metadata": {},
   "outputs": [
    {
     "name": "stdout",
     "output_type": "stream",
     "text": [
      "Model Performance of test set after giving class weights and change in softmax threshold\n",
      "- F1 Score : 0.9992\n",
      "- Precision : 0.6946\n",
      "- Recall : 0.8406\n"
     ]
    }
   ],
   "source": [
    "## Checking the performance after threshold change and class balancing\n",
    "    \n",
    "#test data performance\n",
    "test_f1 = f1_score(y_test,y_pred,average='weighted')\n",
    "test_precision= precision_score(y_test,y_pred)\n",
    "test_recall= recall_score(y_test,y_pred)\n",
    "\n",
    "print (\"Model Performance of test set after giving class weights and change in softmax threshold\")\n",
    "print (\"- F1 Score : {:.4f}\".format(test_f1))\n",
    "print (\"- Precision : {:.4f}\".format(test_precision))\n",
    "print (\"- Recall : {:.4f}\".format(test_recall))"
   ]
  },
  {
   "cell_type": "code",
   "execution_count": 91,
   "id": "29dfa494",
   "metadata": {},
   "outputs": [
    {
     "name": "stdout",
     "output_type": "stream",
     "text": [
      "Test Data Accuracy: 0.9991\n"
     ]
    },
    {
     "data": {
      "image/png": "[encoded data removed]",
      "text/plain": [
       "<Figure size 720x504 with 2 Axes>"
      ]
     },
     "metadata": {},
     "output_type": "display_data"
    }
   ],
   "source": [
    "## Confusion Matrix\n",
    "from sklearn.metrics import confusion_matrix, accuracy_score\n",
    "\n",
    "cm = confusion_matrix(y_test, y_pred) # rows = truth, cols = prediction\n",
    "df_cm = pd.DataFrame(cm, index = (0, 1), columns = (0, 1))\n",
    "plt.figure(figsize = (10,7))\n",
    "sns.set(font_scale=1.4)\n",
    "sns.heatmap(df_cm, annot=True, fmt='g')\n",
    "print(\"Test Data Accuracy: %0.4f\" % accuracy_score(y_test, y_pred))"
   ]
  },
  {
   "cell_type": "markdown",
   "id": "1b716613",
   "metadata": {},
   "source": [
    "### Observation: We could see a slight increase in Recall value by making some simple changes in class balancing and redefining the softmax threshold"
   ]
  },
  {
   "cell_type": "markdown",
   "id": "aa34ab4d",
   "metadata": {},
   "source": [
    "## Improvements\n",
    "\n",
    "- We can design a custom error metric like, a*|type1 errors| + b*|type2 errors|, a>>b.                                       \n",
    "Here we give different weights to errors. Type 1 error is false positives and type 2 is FN. This custom method will solve data imabalacing using weights and cost of error problem\n",
    "- The performances may be improved by \n",
    "* Hyperparameter tuning\n",
    "* Redefining the architecture of ANN\n",
    "* Adding Dropouts and Batch normalization"
   ]
  },
  {
   "cell_type": "code",
   "execution_count": null,
   "id": "859f0ef5",
   "metadata": {},
   "outputs": [],
   "source": []
  }
 ],
 "metadata": {
  "kernelspec": {
   "display_name": "Python 3",
   "language": "python",
   "name": "python3"
  },
  "language_info": {
   "codemirror_mode": {
    "name": "ipython",
    "version": 3
   },
   "file_extension": ".py",
   "mimetype": "text/x-python",
   "name": "python",
   "nbconvert_exporter": "python",
   "pygments_lexer": "ipython3",
   "version": "3.8.8"
  }
 },
 "nbformat": 4,
 "nbformat_minor": 5
}
